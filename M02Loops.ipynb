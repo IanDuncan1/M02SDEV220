{
 "cells": [
  {
   "cell_type": "code",
   "execution_count": 58,
   "id": "9ea90961-ce67-4555-9dad-a9bae621e98f",
   "metadata": {},
   "outputs": [
    {
     "name": "stdout",
     "output_type": "stream",
     "text": [
      "Too low\n",
      "Pea\n",
      "3\n",
      "2\n",
      "1\n",
      "0\n",
      "Too low\n",
      "Too low\n",
      "Too low\n",
      "Too low\n",
      "Too low\n",
      "Too low\n",
      "Just right\n",
      "Too low\n",
      "Too low\n",
      "Too low\n",
      "Too low\n",
      "Too low\n",
      "Found it\n"
     ]
    }
   ],
   "source": [
    "secret = 6\n",
    "guess = 4\n",
    "if guess < secret:\n",
    "    print(\"Too low\")\n",
    "elif guess > secret:\n",
    "    print(\"Too high\")\n",
    "else:\n",
    "    print(\"Just right\")\n",
    "\n",
    "green = True\n",
    "small = True\n",
    "if (small):\n",
    "    if (green):\n",
    "        print(\"Pea\")\n",
    "    else:\n",
    "        print(\"Cherry\")\n",
    "elif (small==False):\n",
    "    if (green):\n",
    "        print(\"Watermellon\")\n",
    "    else:\n",
    "        print(\"Pumpkin\")\n",
    "\n",
    "list = [3,2,1,0]\n",
    "for i in list:\n",
    "    print (i)\n",
    "\n",
    "guessMe = 7\n",
    "number = 1\n",
    "while (number <= guessMe):\n",
    "    if number < guessMe:\n",
    "        print(\"Too low\")\n",
    "    elif number == guessMe:\n",
    "        print (\"Just right\")\n",
    "    else:\n",
    "        print(\"Oops\")\n",
    "        break\n",
    "    number+=1\n",
    "\n",
    "guessMe = 5\n",
    "for number in range(10):\n",
    "    if number < guessMe:\n",
    "        print(\"Too low\")\n",
    "    elif number == guessMe:\n",
    "        print(\"Found it\")\n",
    "        break\n",
    "    else:\n",
    "        print(\"Oops\")\n",
    "        break"
   ]
  },
  {
   "cell_type": "code",
   "execution_count": null,
   "id": "eb2e43c6-e693-4264-8340-223143415fee",
   "metadata": {},
   "outputs": [],
   "source": []
  },
  {
   "cell_type": "code",
   "execution_count": null,
   "id": "81bd74dc-0928-436b-bd7a-5abe87c8cc17",
   "metadata": {},
   "outputs": [],
   "source": []
  },
  {
   "cell_type": "code",
   "execution_count": null,
   "id": "3fe23644-0f00-4e54-8b4c-9cf2c39be172",
   "metadata": {},
   "outputs": [],
   "source": []
  },
  {
   "cell_type": "code",
   "execution_count": null,
   "id": "a2ba91fd-a829-418a-8237-a764a0710e2f",
   "metadata": {},
   "outputs": [],
   "source": []
  }
 ],
 "metadata": {
  "kernelspec": {
   "display_name": "Python 3 (ipykernel)",
   "language": "python",
   "name": "python3"
  },
  "language_info": {
   "codemirror_mode": {
    "name": "ipython",
    "version": 3
   },
   "file_extension": ".py",
   "mimetype": "text/x-python",
   "name": "python",
   "nbconvert_exporter": "python",
   "pygments_lexer": "ipython3",
   "version": "3.11.7"
  }
 },
 "nbformat": 4,
 "nbformat_minor": 5
}
